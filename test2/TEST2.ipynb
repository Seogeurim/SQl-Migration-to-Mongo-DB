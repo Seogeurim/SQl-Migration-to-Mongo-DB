{
 "cells": [
  {
   "cell_type": "code",
   "execution_count": 1,
   "metadata": {},
   "outputs": [],
   "source": [
    "import os\n",
    "import cx_Oracle\n",
    "import json\n",
    "from pprint import pprint\n",
    "import pymongo\n",
    "from bson.objectid import ObjectId"
   ]
  },
  {
   "cell_type": "markdown",
   "metadata": {},
   "source": [
    "### Connection"
   ]
  },
  {
   "cell_type": "code",
   "execution_count": 2,
   "metadata": {},
   "outputs": [],
   "source": [
    "# 한글 지원 방법\n",
    "os.putenv('NLS_LANG', '.UTF8')\n",
    "\n",
    "# MongoDB Connection\n",
    "connection = pymongo.MongoClient(\"localhost\", 27017)\n",
    "db = connection.TEST2\n",
    "\n",
    "# OracleDB Connection\n",
    "oconnection = cx_Oracle.connect('system/oracle@0.0.0.0:1521')\n",
    "cursor = oconnection.cursor()"
   ]
  },
  {
   "cell_type": "markdown",
   "metadata": {},
   "source": [
    "### Init"
   ]
  },
  {
   "cell_type": "code",
   "execution_count": 3,
   "metadata": {},
   "outputs": [],
   "source": [
    "instructordb = db['INSTRUCTOR']\n",
    "studentdb = db['STUDENT']\n",
    "takesdb = db['TAKES']\n",
    "sectiondb = db['SECTION']\n",
    "teachesdb = db['TEACHES']\n",
    "\n",
    "# collection 초기화\n",
    "instructordb.delete_many({})\n",
    "studentdb.delete_many({})\n",
    "takesdb.delete_many({})\n",
    "sectiondb.delete_many({})\n",
    "teachesdb.delete_many({})\n",
    "\n",
    "# embedding 하기 위한 dictionary\n",
    "department = {}\n",
    "classroom = {}\n",
    "ctmp = {}\n",
    "time_slot = {}\n",
    "course = {}\n",
    "\n",
    "# collection 저장 배열\n",
    "instructor = []\n",
    "student = []\n",
    "section = []\n",
    "takes = []\n",
    "teaches = []"
   ]
  },
  {
   "cell_type": "markdown",
   "metadata": {},
   "source": [
    "### Embedding - department"
   ]
  },
  {
   "cell_type": "code",
   "execution_count": 4,
   "metadata": {},
   "outputs": [],
   "source": [
    "cursor.execute(\"\"\"\n",
    "    select * from DEPARTMENT\n",
    "\"\"\")\n",
    "\n",
    "for token in cursor:\n",
    "    dept_name = token[0]\n",
    "    building = token[1]\n",
    "    budget = float(token[2])\n",
    "    # dictionry에 key(dept_name) - value(dept_name, building, budget) 쌍으로 저장\n",
    "    department[dept_name] = {\n",
    "        'dept_name': dept_name,\n",
    "        'building': building,\n",
    "        'budget': budget\n",
    "    }"
   ]
  },
  {
   "cell_type": "markdown",
   "metadata": {},
   "source": [
    "### Embedding - classroom"
   ]
  },
  {
   "cell_type": "code",
   "execution_count": 5,
   "metadata": {},
   "outputs": [],
   "source": [
    "cursor.execute(\"\"\"\n",
    "    select * from CLASSROOM\n",
    "\"\"\")\n",
    "\n",
    "for token in cursor:\n",
    "    building = token[0]\n",
    "    roomnumber = token[1]\n",
    "    capacity = int(token[2])\n",
    "    # dictionry에 key(buliding) - key(roomnumber) - value(dept_name, building, budget) 쌍으로 저장\n",
    "\n",
    "    if building in classroom.keys():\n",
    "        classroom[building][roomnumber] = {\n",
    "            'building': building,\n",
    "            'room_number': roomnumber,\n",
    "            'capacity': capacity\n",
    "        }\n",
    "    else:\n",
    "        classroom[building] = dict()\n",
    "        classroom[building][roomnumber] = {\n",
    "            'building': building,\n",
    "            'room_number': roomnumber,\n",
    "            'capacity': capacity\n",
    "        }"
   ]
  },
  {
   "cell_type": "markdown",
   "metadata": {},
   "source": [
    "### Embedding - time_slot"
   ]
  },
  {
   "cell_type": "code",
   "execution_count": 6,
   "metadata": {},
   "outputs": [],
   "source": [
    "cursor.execute(\"\"\"\n",
    "    select * from TIME_SLOT\n",
    "\"\"\")\n",
    "\n",
    "for token in cursor:\n",
    "    time_slot_id = token[0]\n",
    "    day = token[1]\n",
    "    start_hour = token[2]\n",
    "    start_min = token[3]\n",
    "    end_hour = token[4]\n",
    "    end_min = token[5]\n",
    "    # dictionry에 key(time_slot_id) - value() 쌍으로 저장\n",
    "    time_slot[time_slot_id] = {\n",
    "        'day': day,\n",
    "        'start_hour': token[2],\n",
    "        'start_min': token[3],\n",
    "        'end_hour': token[4],\n",
    "        'end_min': token[5]\n",
    "    }"
   ]
  },
  {
   "cell_type": "markdown",
   "metadata": {},
   "source": [
    "### Embedding - course"
   ]
  },
  {
   "cell_type": "code",
   "execution_count": 7,
   "metadata": {},
   "outputs": [],
   "source": [
    "cursor.execute(\"\"\"\n",
    "    select * from COURSE\n",
    "\"\"\")\n",
    "\n",
    "for token in cursor:\n",
    "    course_id = token[0]\n",
    "    title = token[1]\n",
    "    dept_name = token[2]\n",
    "    credits = int(token[3])\n",
    "    Json = {\n",
    "        'course_id': course_id,\n",
    "        'title': title,\n",
    "        'credits': credits,\n",
    "        'department': department[dept_name],\n",
    "        'prereq': [],\n",
    "    }\n",
    "    course[course_id] = Json\n",
    "    \n",
    "cursor.execute(\"\"\"\n",
    "    select * from PREREQ\n",
    "\"\"\")\n",
    "\n",
    "for token in cursor:\n",
    "    course_id = token[0]\n",
    "    prereq_id = token[1]\n",
    "\n",
    "    Json = course[prereq_id].copy()\n",
    "    Json.pop('prereq')\n",
    "    course[course_id]['prereq'].append(Json)"
   ]
  },
  {
   "cell_type": "markdown",
   "metadata": {},
   "source": [
    "### Collections"
   ]
  },
  {
   "cell_type": "code",
   "execution_count": 8,
   "metadata": {},
   "outputs": [],
   "source": [
    "cursor.execute(\"\"\"\n",
    "    select * from INSTRUCTOR\n",
    "\"\"\")\n",
    "\n",
    "for token in cursor:\n",
    "    ID = token[0]\n",
    "    Name = token[1]\n",
    "    dept_name = token[2]\n",
    "    salary = float(token[3])\n",
    "    Json = {\n",
    "        'ID': ID,\n",
    "        'name': Name,\n",
    "        'salary': int(salary),\n",
    "        'department': department[dept_name],\n",
    "        'advisor': ''\n",
    "    }\n",
    "    instructor.append(Json)\n",
    "    \n",
    "cursor.execute(\"\"\"\n",
    "    select * from STUDENT\n",
    "\"\"\")\n",
    "\n",
    "for token in cursor:\n",
    "    ID = token[0]\n",
    "    Name = token[1]\n",
    "    dept_name = token[2]\n",
    "    tot_credit = int(token[3])\n",
    "    Json = {\n",
    "        'ID': ID,\n",
    "        'name': Name,\n",
    "        'tot_credit': tot_credit,\n",
    "        'department': department[dept_name],\n",
    "        'advisor': ''\n",
    "    }\n",
    "    student.append(Json)\n",
    "    \n",
    "cursor.execute(\"\"\"\n",
    "    select * from SECTION\n",
    "\"\"\")\n",
    "\n",
    "for token in cursor:\n",
    "    course_id = token[0]\n",
    "    section_id = token[1]\n",
    "    semester = token[2]\n",
    "    year = int(token[3])\n",
    "    building = token[4]\n",
    "    roomnumber = token[5]\n",
    "    time_slot_id = token[6]\n",
    "    Json = {\n",
    "        'course': course[course_id],\n",
    "        'section_id': section_id,\n",
    "        'semester': semester,\n",
    "        'year': year,\n",
    "        'time_slot': '',\n",
    "        'classroom': classroom[building][roomnumber]\n",
    "    }\n",
    "    if time_slot_id in time_slot.keys():\n",
    "        Json['time_slot'] = time_slot[time_slot_id]\n",
    "    section.append(Json)"
   ]
  },
  {
   "cell_type": "markdown",
   "metadata": {},
   "source": [
    "### Embedded 저장"
   ]
  },
  {
   "cell_type": "code",
   "execution_count": 9,
   "metadata": {},
   "outputs": [
    {
     "data": {
      "text/plain": [
       "<pymongo.results.InsertManyResult at 0x10e63d5c8>"
      ]
     },
     "execution_count": 9,
     "metadata": {},
     "output_type": "execute_result"
    }
   ],
   "source": [
    "instructordb.insert_many(instructor)\n",
    "studentdb.insert_many(student)\n",
    "sectiondb.insert_many(section)"
   ]
  },
  {
   "cell_type": "markdown",
   "metadata": {},
   "source": [
    "### Linked"
   ]
  },
  {
   "cell_type": "code",
   "execution_count": 10,
   "metadata": {},
   "outputs": [],
   "source": [
    "cursor.execute(\"\"\"\n",
    "    select * from ADVISOR\n",
    "\"\"\")\n",
    "\n",
    "for token in cursor:\n",
    "    s_id = token[0]\n",
    "    i_id = token[1]\n",
    "\n",
    "    s_obi = studentdb.find_one({'ID': s_id})['_id']\n",
    "    i_obi = instructordb.find_one({'ID': i_id})['_id']\n",
    "\n",
    "    instructordb.update_one({'ID': i_id}, {'$set': {'advisor': s_obi}})\n",
    "    studentdb.update_one({'ID': s_id}, {'$set': {'advisor': i_obi}})"
   ]
  },
  {
   "cell_type": "code",
   "execution_count": 11,
   "metadata": {},
   "outputs": [],
   "source": [
    "cursor.execute(\"\"\"\n",
    "    select * from TAKES\n",
    "\"\"\")\n",
    "\n",
    "for token in cursor:\n",
    "    ID = token[0]\n",
    "    course_id = token[1]\n",
    "    sec_id = token[2]\n",
    "    seme = token[3]\n",
    "    year = int(token[4])\n",
    "    grade = token[5]\n",
    "\n",
    "    s_obi = studentdb.find_one({'ID': ID})['_id']\n",
    "\n",
    "    sec_obi = sectiondb.find_one(\n",
    "        {'course': course[course_id], 'section_id': sec_id, 'semester': seme, 'year': year})['_id']\n",
    "\n",
    "    Json = {\n",
    "        'section_id': sec_obi,\n",
    "        'student_id': s_obi,\n",
    "        'grade': grade\n",
    "    }\n",
    "    takesdb.insert_one(Json)"
   ]
  },
  {
   "cell_type": "code",
   "execution_count": 59,
   "metadata": {},
   "outputs": [
    {
     "name": "stdout",
     "output_type": "stream",
     "text": [
      "1 {'instructor_id': ObjectId('5ed5f731f21da2027b365d5f'), 'section_id': ObjectId('5ed5f731f21da2027b366586'), 'dept_name': 'Accounting'}\n",
      "2 {'instructor_id': ObjectId('5ed5f731f21da2027b365d5f'), 'section_id': ObjectId('5ed5f731f21da2027b366585'), 'dept_name': ''}\n",
      "3 {'instructor_id': ObjectId('5ed5f731f21da2027b365d63'), 'section_id': ObjectId('5ed5f731f21da2027b366554'), 'dept_name': ''}\n",
      "4 {'instructor_id': ObjectId('5ed5f731f21da2027b365d7d'), 'section_id': ObjectId('5ed5f731f21da2027b36656a'), 'dept_name': ''}\n",
      "5 {'instructor_id': ObjectId('5ed5f731f21da2027b365d7d'), 'section_id': ObjectId('5ed5f731f21da2027b366578'), 'dept_name': 'Pol. Sci.'}\n",
      "6 {'instructor_id': ObjectId('5ed5f731f21da2027b365d7d'), 'section_id': ObjectId('5ed5f731f21da2027b366592'), 'dept_name': 'Pol. Sci.'}\n",
      "7 {'instructor_id': ObjectId('5ed5f731f21da2027b365d69'), 'section_id': ObjectId('5ed5f731f21da2027b36655c'), 'dept_name': 'Psychology'}\n",
      "8 {'instructor_id': ObjectId('5ed5f731f21da2027b365d69'), 'section_id': ObjectId('5ed5f731f21da2027b3665b1'), 'dept_name': 'Psychology'}\n",
      "9 {'instructor_id': ObjectId('5ed5f731f21da2027b365d69'), 'section_id': ObjectId('5ed5f731f21da2027b366577'), 'dept_name': 'Psychology'}\n",
      "10 {'instructor_id': ObjectId('5ed5f731f21da2027b365d69'), 'section_id': ObjectId('5ed5f731f21da2027b366582'), 'dept_name': 'Psychology'}\n",
      "11 {'instructor_id': ObjectId('5ed5f731f21da2027b365d69'), 'section_id': ObjectId('5ed5f731f21da2027b3665a5'), 'dept_name': 'Psychology'}\n",
      "12 {'instructor_id': ObjectId('5ed5f731f21da2027b365d69'), 'section_id': ObjectId('5ed5f731f21da2027b36659f'), 'dept_name': 'Psychology'}\n",
      "13 {'instructor_id': ObjectId('5ed5f731f21da2027b365d69'), 'section_id': ObjectId('5ed5f731f21da2027b366583'), 'dept_name': 'Psychology'}\n",
      "14 {'instructor_id': ObjectId('5ed5f731f21da2027b365d69'), 'section_id': ObjectId('5ed5f731f21da2027b36657e'), 'dept_name': 'Psychology'}\n",
      "15 {'instructor_id': ObjectId('5ed5f731f21da2027b365d69'), 'section_id': ObjectId('5ed5f731f21da2027b366553'), 'dept_name': 'Psychology'}\n",
      "16 {'instructor_id': ObjectId('5ed5f731f21da2027b365d69'), 'section_id': ObjectId('5ed5f731f21da2027b366560'), 'dept_name': ''}\n",
      "17 {'instructor_id': ObjectId('5ed5f731f21da2027b365d69'), 'section_id': ObjectId('5ed5f731f21da2027b36659b'), 'dept_name': 'Psychology'}\n",
      "18 {'instructor_id': ObjectId('5ed5f731f21da2027b365d69'), 'section_id': ObjectId('5ed5f731f21da2027b36656e'), 'dept_name': 'Psychology'}\n",
      "19 {'instructor_id': ObjectId('5ed5f731f21da2027b365d69'), 'section_id': ObjectId('5ed5f731f21da2027b3665a2'), 'dept_name': 'Psychology'}\n",
      "20 {'instructor_id': ObjectId('5ed5f731f21da2027b365d6d'), 'section_id': ObjectId('5ed5f731f21da2027b366593'), 'dept_name': 'Languages'}\n",
      "21 {'instructor_id': ObjectId('5ed5f731f21da2027b365d79'), 'section_id': ObjectId('5ed5f731f21da2027b366569'), 'dept_name': 'English'}\n",
      "22 {'instructor_id': ObjectId('5ed5f731f21da2027b365d79'), 'section_id': ObjectId('5ed5f731f21da2027b36657f'), 'dept_name': 'English'}\n",
      "23 {'instructor_id': ObjectId('5ed5f731f21da2027b365d7b'), 'section_id': ObjectId('5ed5f731f21da2027b3665af'), 'dept_name': 'Statistics'}\n",
      "24 {'instructor_id': ObjectId('5ed5f731f21da2027b365d7b'), 'section_id': ObjectId('5ed5f731f21da2027b366562'), 'dept_name': 'Statistics'}\n",
      "25 {'instructor_id': ObjectId('5ed5f731f21da2027b365d70'), 'section_id': ObjectId('5ed5f731f21da2027b366589'), 'dept_name': 'Elec. Eng.'}\n",
      "26 {'instructor_id': ObjectId('5ed5f731f21da2027b365d70'), 'section_id': ObjectId('5ed5f731f21da2027b3665ab'), 'dept_name': 'Elec. Eng.'}\n",
      "27 {'instructor_id': ObjectId('5ed5f731f21da2027b365d70'), 'section_id': ObjectId('5ed5f731f21da2027b366561'), 'dept_name': 'Elec. Eng.'}\n",
      "28 {'instructor_id': ObjectId('5ed5f731f21da2027b365d70'), 'section_id': ObjectId('5ed5f731f21da2027b366566'), 'dept_name': 'Elec. Eng.'}\n",
      "29 {'instructor_id': ObjectId('5ed5f731f21da2027b365d74'), 'section_id': ObjectId('5ed5f731f21da2027b36659e'), 'dept_name': 'Comp. Sci.'}\n",
      "30 {'instructor_id': ObjectId('5ed5f731f21da2027b365d74'), 'section_id': ObjectId('5ed5f731f21da2027b36658f'), 'dept_name': ''}\n",
      "31 {'instructor_id': ObjectId('5ed5f731f21da2027b365d71'), 'section_id': ObjectId('5ed5f731f21da2027b366568'), 'dept_name': 'Comp. Sci.'}\n",
      "32 {'instructor_id': ObjectId('5ed5f731f21da2027b365d71'), 'section_id': ObjectId('5ed5f731f21da2027b3665a8'), 'dept_name': 'Comp. Sci.'}\n",
      "33 {'instructor_id': ObjectId('5ed5f731f21da2027b365d71'), 'section_id': ObjectId('5ed5f731f21da2027b366550'), 'dept_name': 'Comp. Sci.'}\n",
      "34 {'instructor_id': ObjectId('5ed5f731f21da2027b365d6e'), 'section_id': ObjectId('5ed5f731f21da2027b36658e'), 'dept_name': 'Marketing'}\n",
      "35 {'instructor_id': ObjectId('5ed5f731f21da2027b365d6e'), 'section_id': ObjectId('5ed5f731f21da2027b36654f'), 'dept_name': 'Marketing'}\n",
      "36 {'instructor_id': ObjectId('5ed5f731f21da2027b365d6e'), 'section_id': ObjectId('5ed5f731f21da2027b36659a'), 'dept_name': 'Marketing'}\n",
      "37 {'instructor_id': ObjectId('5ed5f731f21da2027b365d6e'), 'section_id': ObjectId('5ed5f731f21da2027b36658a'), 'dept_name': 'Marketing'}\n",
      "38 {'instructor_id': ObjectId('5ed5f731f21da2027b365d6e'), 'section_id': ObjectId('5ed5f731f21da2027b36657a'), 'dept_name': 'Marketing'}\n",
      "39 {'instructor_id': ObjectId('5ed5f731f21da2027b365d7c'), 'section_id': ObjectId('5ed5f731f21da2027b3665a6'), 'dept_name': 'Athletics'}\n",
      "40 {'instructor_id': ObjectId('5ed5f731f21da2027b365d7c'), 'section_id': ObjectId('5ed5f731f21da2027b366590'), 'dept_name': 'Athletics'}\n",
      "41 {'instructor_id': ObjectId('5ed5f731f21da2027b365d7c'), 'section_id': ObjectId('5ed5f731f21da2027b36655f'), 'dept_name': 'Athletics'}\n",
      "42 {'instructor_id': ObjectId('5ed5f731f21da2027b365d50'), 'section_id': ObjectId('5ed5f731f21da2027b366580'), 'dept_name': ''}\n",
      "43 {'instructor_id': ObjectId('5ed5f731f21da2027b365d65'), 'section_id': ObjectId('5ed5f731f21da2027b36657b'), 'dept_name': ''}\n",
      "44 {'instructor_id': ObjectId('5ed5f731f21da2027b365d77'), 'section_id': ObjectId('5ed5f731f21da2027b366591'), 'dept_name': 'Astronomy'}\n",
      "45 {'instructor_id': ObjectId('5ed5f731f21da2027b365d77'), 'section_id': ObjectId('5ed5f731f21da2027b366599'), 'dept_name': 'Astronomy'}\n",
      "46 {'instructor_id': ObjectId('5ed5f731f21da2027b365d77'), 'section_id': ObjectId('5ed5f731f21da2027b3665a1'), 'dept_name': 'Astronomy'}\n",
      "47 {'instructor_id': ObjectId('5ed5f731f21da2027b365d77'), 'section_id': ObjectId('5ed5f731f21da2027b36658c'), 'dept_name': 'Astronomy'}\n",
      "48 {'instructor_id': ObjectId('5ed5f731f21da2027b365d72'), 'section_id': ObjectId('5ed5f731f21da2027b366598'), 'dept_name': ''}\n",
      "49 {'instructor_id': ObjectId('5ed5f731f21da2027b365d6a'), 'section_id': ObjectId('5ed5f731f21da2027b36658b'), 'dept_name': ''}\n",
      "50 {'instructor_id': ObjectId('5ed5f731f21da2027b365d54'), 'section_id': ObjectId('5ed5f731f21da2027b3665a9'), 'dept_name': ''}\n",
      "51 {'instructor_id': ObjectId('5ed5f731f21da2027b365d67'), 'section_id': ObjectId('5ed5f731f21da2027b366567'), 'dept_name': 'Athletics'}\n",
      "52 {'instructor_id': ObjectId('5ed5f731f21da2027b365d67'), 'section_id': ObjectId('5ed5f731f21da2027b36659d'), 'dept_name': 'Athletics'}\n",
      "53 {'instructor_id': ObjectId('5ed5f731f21da2027b365d5d'), 'section_id': ObjectId('5ed5f731f21da2027b366571'), 'dept_name': 'Finance'}\n",
      "54 {'instructor_id': ObjectId('5ed5f731f21da2027b365d5d'), 'section_id': ObjectId('5ed5f731f21da2027b366572'), 'dept_name': 'Finance'}\n",
      "55 {'instructor_id': ObjectId('5ed5f731f21da2027b365d5d'), 'section_id': ObjectId('5ed5f731f21da2027b3665a4'), 'dept_name': 'Finance'}\n",
      "56 {'instructor_id': ObjectId('5ed5f731f21da2027b365d5d'), 'section_id': ObjectId('5ed5f731f21da2027b36656f'), 'dept_name': 'Finance'}\n",
      "57 {'instructor_id': ObjectId('5ed5f731f21da2027b365d5d'), 'section_id': ObjectId('5ed5f731f21da2027b36657d'), 'dept_name': 'Finance'}\n",
      "58 {'instructor_id': ObjectId('5ed5f731f21da2027b365d5d'), 'section_id': ObjectId('5ed5f731f21da2027b366594'), 'dept_name': 'Finance'}\n",
      "59 {'instructor_id': ObjectId('5ed5f731f21da2027b365d5d'), 'section_id': ObjectId('5ed5f731f21da2027b36659c'), 'dept_name': 'Finance'}\n",
      "60 {'instructor_id': ObjectId('5ed5f731f21da2027b365d5d'), 'section_id': ObjectId('5ed5f731f21da2027b36656c'), 'dept_name': 'Finance'}\n",
      "61 {'instructor_id': ObjectId('5ed5f731f21da2027b365d5d'), 'section_id': ObjectId('5ed5f731f21da2027b366555'), 'dept_name': 'Finance'}\n",
      "62 {'instructor_id': ObjectId('5ed5f731f21da2027b365d5d'), 'section_id': ObjectId('5ed5f731f21da2027b3665a0'), 'dept_name': 'Finance'}\n",
      "63 {'instructor_id': ObjectId('5ed5f731f21da2027b365d73'), 'section_id': ObjectId('5ed5f731f21da2027b3665ae'), 'dept_name': 'Cybernetics'}\n",
      "64 {'instructor_id': ObjectId('5ed5f731f21da2027b365d56'), 'section_id': ObjectId('5ed5f731f21da2027b366575'), 'dept_name': ''}\n",
      "65 {'instructor_id': ObjectId('5ed5f731f21da2027b365d59'), 'section_id': ObjectId('5ed5f731f21da2027b366557'), 'dept_name': 'Physics'}\n",
      "66 {'instructor_id': ObjectId('5ed5f731f21da2027b365d59'), 'section_id': ObjectId('5ed5f731f21da2027b36655d'), 'dept_name': 'Physics'}\n",
      "67 {'instructor_id': ObjectId('5ed5f731f21da2027b365d59'), 'section_id': ObjectId('5ed5f731f21da2027b366551'), 'dept_name': 'Physics'}\n",
      "68 {'instructor_id': ObjectId('5ed5f731f21da2027b365d59'), 'section_id': ObjectId('5ed5f731f21da2027b366587'), 'dept_name': 'Physics'}\n",
      "69 {'instructor_id': ObjectId('5ed5f731f21da2027b365d59'), 'section_id': ObjectId('5ed5f731f21da2027b366588'), 'dept_name': 'Physics'}\n",
      "70 {'instructor_id': ObjectId('5ed5f731f21da2027b365d59'), 'section_id': ObjectId('5ed5f731f21da2027b366564'), 'dept_name': 'Physics'}\n",
      "71 {'instructor_id': ObjectId('5ed5f731f21da2027b365d78'), 'section_id': ObjectId('5ed5f731f21da2027b36656b'), 'dept_name': 'Geology'}\n",
      "72 {'instructor_id': ObjectId('5ed5f731f21da2027b365d78'), 'section_id': ObjectId('5ed5f731f21da2027b366579'), 'dept_name': 'Geology'}\n",
      "73 {'instructor_id': ObjectId('5ed5f731f21da2027b365d78'), 'section_id': ObjectId('5ed5f731f21da2027b366597'), 'dept_name': 'Geology'}\n",
      "74 {'instructor_id': ObjectId('5ed5f731f21da2027b365d78'), 'section_id': ObjectId('5ed5f731f21da2027b36655a'), 'dept_name': 'Geology'}\n",
      "75 {'instructor_id': ObjectId('5ed5f731f21da2027b365d78'), 'section_id': ObjectId('5ed5f731f21da2027b3665aa'), 'dept_name': 'Geology'}\n",
      "76 {'instructor_id': ObjectId('5ed5f731f21da2027b365d78'), 'section_id': ObjectId('5ed5f731f21da2027b3665b2'), 'dept_name': 'Geology'}\n",
      "77 {'instructor_id': ObjectId('5ed5f731f21da2027b365d6b'), 'section_id': ObjectId('5ed5f731f21da2027b3665ad'), 'dept_name': 'Accounting'}\n",
      "78 {'instructor_id': ObjectId('5ed5f731f21da2027b365d6b'), 'section_id': ObjectId('5ed5f731f21da2027b366576'), 'dept_name': 'Accounting'}\n",
      "79 {'instructor_id': ObjectId('5ed5f731f21da2027b365d6b'), 'section_id': ObjectId('5ed5f731f21da2027b3665a3'), 'dept_name': 'Accounting'}\n",
      "80 {'instructor_id': ObjectId('5ed5f731f21da2027b365d6b'), 'section_id': ObjectId('5ed5f731f21da2027b3665b0'), 'dept_name': 'Accounting'}\n",
      "81 {'instructor_id': ObjectId('5ed5f731f21da2027b365d6b'), 'section_id': ObjectId('5ed5f731f21da2027b366584'), 'dept_name': 'Accounting'}\n",
      "82 {'instructor_id': ObjectId('5ed5f731f21da2027b365d6b'), 'section_id': ObjectId('5ed5f731f21da2027b366563'), 'dept_name': 'Accounting'}\n",
      "83 {'instructor_id': ObjectId('5ed5f731f21da2027b365d55'), 'section_id': ObjectId('5ed5f731f21da2027b366556'), 'dept_name': 'Biology'}\n",
      "84 {'instructor_id': ObjectId('5ed5f731f21da2027b365d61'), 'section_id': ObjectId('5ed5f731f21da2027b366570'), 'dept_name': 'Biology'}\n",
      "85 {'instructor_id': ObjectId('5ed5f731f21da2027b365d61'), 'section_id': ObjectId('5ed5f731f21da2027b366565'), 'dept_name': 'Biology'}\n",
      "86 {'instructor_id': ObjectId('5ed5f731f21da2027b365d7a'), 'section_id': ObjectId('5ed5f731f21da2027b366559'), 'dept_name': 'Cybernetics'}\n",
      "87 {'instructor_id': ObjectId('5ed5f731f21da2027b365d60'), 'section_id': ObjectId('5ed5f731f21da2027b366596'), 'dept_name': ''}\n",
      "88 {'instructor_id': ObjectId('5ed5f731f21da2027b365d76'), 'section_id': ObjectId('5ed5f731f21da2027b36656d'), 'dept_name': ''}\n"
     ]
    },
    {
     "name": "stdout",
     "output_type": "stream",
     "text": [
      "89 {'instructor_id': ObjectId('5ed5f731f21da2027b365d76'), 'section_id': ObjectId('5ed5f731f21da2027b366595'), 'dept_name': ''}\n",
      "90 {'instructor_id': ObjectId('5ed5f731f21da2027b365d76'), 'section_id': ObjectId('5ed5f731f21da2027b366573'), 'dept_name': ''}\n",
      "91 {'instructor_id': ObjectId('5ed5f731f21da2027b365d76'), 'section_id': ObjectId('5ed5f731f21da2027b3665a7'), 'dept_name': ''}\n",
      "92 {'instructor_id': ObjectId('5ed5f731f21da2027b365d7e'), 'section_id': ObjectId('5ed5f731f21da2027b36658d'), 'dept_name': 'Cybernetics'}\n",
      "93 {'instructor_id': ObjectId('5ed5f731f21da2027b365d7e'), 'section_id': ObjectId('5ed5f731f21da2027b36655b'), 'dept_name': 'Cybernetics'}\n",
      "94 {'instructor_id': ObjectId('5ed5f731f21da2027b365d7e'), 'section_id': ObjectId('5ed5f731f21da2027b36657c'), 'dept_name': 'Cybernetics'}\n",
      "95 {'instructor_id': ObjectId('5ed5f731f21da2027b365d7e'), 'section_id': ObjectId('5ed5f731f21da2027b3665ac'), 'dept_name': 'Cybernetics'}\n",
      "96 {'instructor_id': ObjectId('5ed5f731f21da2027b365d7e'), 'section_id': ObjectId('5ed5f731f21da2027b366581'), 'dept_name': 'Cybernetics'}\n",
      "97 {'instructor_id': ObjectId('5ed5f731f21da2027b365d7e'), 'section_id': ObjectId('5ed5f731f21da2027b366574'), 'dept_name': 'Cybernetics'}\n",
      "98 {'instructor_id': ObjectId('5ed5f731f21da2027b365d7e'), 'section_id': ObjectId('5ed5f731f21da2027b366558'), 'dept_name': 'Cybernetics'}\n",
      "99 {'instructor_id': ObjectId('5ed5f731f21da2027b365d7e'), 'section_id': ObjectId('5ed5f731f21da2027b366552'), 'dept_name': 'Cybernetics'}\n",
      "100 {'instructor_id': ObjectId('5ed5f731f21da2027b365d7e'), 'section_id': ObjectId('5ed5f731f21da2027b36655e'), 'dept_name': 'Cybernetics'}\n"
     ]
    }
   ],
   "source": [
    "cursor.execute(\"\"\"\n",
    "    select * from TEACHES\n",
    "\"\"\")\n",
    "\n",
    "teaches = []\n",
    "idx = 1\n",
    "for token in cursor:\n",
    "    i_id = token[0]\n",
    "    course_id = token[1]\n",
    "    sec_id = token[2]\n",
    "    semester = token[3]\n",
    "    year = int(token[4])\n",
    "\n",
    "    i_obi = instructordb.find_one({'ID': i_id})['_id']\n",
    "    sec_obi = sectiondb.find_one(\n",
    "        {'course': course[course_id], 'section_id': sec_id, 'semester': semester, 'year': year})['_id']\n",
    "    \n",
    "    sec_dept = sectiondb.find_one({'course': course[course_id]})['course']['department']['dept_name']\n",
    "    i_dept = instructordb.find_one({'ID': i_id})['department']['dept_name']\n",
    "    \n",
    "    if sec_dept == i_dept:\n",
    "        dept_name = i_dept\n",
    "    else:\n",
    "        dept_name = ''\n",
    "    \n",
    "    Json = {\n",
    "        'instructor_id': i_obi,\n",
    "        'section_id': sec_obi,\n",
    "        'dept_name': dept_name\n",
    "    }\n",
    "    \n",
    "    print(idx, Json)\n",
    "    idx += 1;\n",
    "        \n",
    "    teaches.append(Json)"
   ]
  },
  {
   "cell_type": "code",
   "execution_count": 60,
   "metadata": {},
   "outputs": [
    {
     "data": {
      "text/plain": [
       "100"
      ]
     },
     "execution_count": 60,
     "metadata": {},
     "output_type": "execute_result"
    }
   ],
   "source": [
    "len(teaches)"
   ]
  },
  {
   "cell_type": "code",
   "execution_count": 61,
   "metadata": {},
   "outputs": [
    {
     "data": {
      "text/plain": [
       "<pymongo.results.InsertManyResult at 0x11cbfa188>"
      ]
     },
     "execution_count": 61,
     "metadata": {},
     "output_type": "execute_result"
    }
   ],
   "source": [
    "teachesdb.insert_many(teaches)"
   ]
  },
  {
   "cell_type": "code",
   "execution_count": null,
   "metadata": {},
   "outputs": [],
   "source": []
  },
  {
   "cell_type": "code",
   "execution_count": null,
   "metadata": {},
   "outputs": [],
   "source": []
  }
 ],
 "metadata": {
  "kernelspec": {
   "display_name": "Python 3",
   "language": "python",
   "name": "python3"
  },
  "language_info": {
   "codemirror_mode": {
    "name": "ipython",
    "version": 3
   },
   "file_extension": ".py",
   "mimetype": "text/x-python",
   "name": "python",
   "nbconvert_exporter": "python",
   "pygments_lexer": "ipython3",
   "version": "3.7.0"
  }
 },
 "nbformat": 4,
 "nbformat_minor": 2
}
